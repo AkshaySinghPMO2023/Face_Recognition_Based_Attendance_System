{
 "cells": [
  {
   "cell_type": "code",
   "execution_count": 4,
   "metadata": {},
   "outputs": [
    {
     "name": "stdout",
     "output_type": "stream",
     "text": [
      "5.9.7\n",
      "5.9.2\n"
     ]
    }
   ],
   "source": [
    "from PyQt5.QtCore import QT_VERSION_STR\n",
    "from PyQt5.Qt import PYQT_VERSION_STR\n",
    "\n",
    "print(QT_VERSION_STR)\n",
    "print(PYQT_VERSION_STR)"
   ]
  },
  {
   "cell_type": "code",
   "execution_count": null,
   "metadata": {},
   "outputs": [],
   "source": []
  }
 ],
 "metadata": {
  "kernelspec": {
   "display_name": "Python 3",
   "language": "python",
   "name": "python3"
  },
  "language_info": {
   "codemirror_mode": {
    "name": "ipython",
    "version": 3
   },
   "file_extension": ".py",
   "mimetype": "text/x-python",
   "name": "python",
   "nbconvert_exporter": "python",
   "pygments_lexer": "ipython3",
   "version": "3.8.5"
  }
 },
 "nbformat": 4,
 "nbformat_minor": 4
}
