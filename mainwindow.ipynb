{
 "cells": [
  {
   "cell_type": "code",
   "execution_count": 1,
   "metadata": {},
   "outputs": [
    {
     "name": "stdout",
     "output_type": "stream",
     "text": [
      "hello test completed\n"
     ]
    },
    {
     "ename": "SystemExit",
     "evalue": "0",
     "output_type": "error",
     "traceback": [
      "An exception has occurred, use %tb to see the full traceback.\n",
      "\u001b[0;31mSystemExit\u001b[0m\u001b[0;31m:\u001b[0m 0\n"
     ]
    },
    {
     "name": "stderr",
     "output_type": "stream",
     "text": [
      "/home/superuser/anaconda3/lib/python3.8/site-packages/IPython/core/interactiveshell.py:3426: UserWarning: To exit: use 'exit', 'quit', or Ctrl-D.\n",
      "  warn(\"To exit: use 'exit', 'quit', or Ctrl-D.\", stacklevel=1)\n"
     ]
    }
   ],
   "source": [
    "# -*- coding: utf-8 -*-\n",
    "\n",
    "# Form implementation generated from reading ui file 'main.ui'\n",
    "#\n",
    "# Created by: PyQt5 UI code generator 5.9.2\n",
    "#\n",
    "# WARNING! All changes made in this file will be lost!\n",
    "\n",
    "from PyQt5 import QtCore, QtGui, QtWidgets\n",
    "\n",
    "class Ui_MainWindow(object):\n",
    "    def hello(self):\n",
    "        print(\"hello test completed\")\n",
    "    def setupUi(self, MainWindow):\n",
    "        MainWindow.setObjectName(\"MainWindow\")\n",
    "        MainWindow.resize(800, 600)\n",
    "        self.centralwidget = QtWidgets.QWidget(MainWindow)\n",
    "        self.centralwidget.setObjectName(\"centralwidget\")\n",
    "        self.pushButton_2 = QtWidgets.QPushButton(self.centralwidget)\n",
    "        self.pushButton_2.setGeometry(QtCore.QRect(330, 240, 151, 41))\n",
    "        font = QtGui.QFont()\n",
    "        font.setPointSize(19)\n",
    "        font.setBold(True)\n",
    "        font.setWeight(75)\n",
    "        self.pushButton_2.setFont(font)\n",
    "        self.pushButton_2.setObjectName(\"pushButton_2\")\n",
    "        self.pushButton_2.clicked.connect(self.hello)\n",
    "        self.label_3 = QtWidgets.QLabel(self.centralwidget)\n",
    "        self.label_3.setGeometry(QtCore.QRect(160, 20, 571, 71))\n",
    "        font = QtGui.QFont()\n",
    "        font.setPointSize(35)\n",
    "        font.setBold(True)\n",
    "        font.setWeight(75)\n",
    "        self.label_3.setFont(font)\n",
    "        self.label_3.setLineWidth(4)\n",
    "        self.label_3.setObjectName(\"label_3\")\n",
    "        MainWindow.setCentralWidget(self.centralwidget)\n",
    "        self.menubar = QtWidgets.QMenuBar(MainWindow)\n",
    "        self.menubar.setGeometry(QtCore.QRect(0, 0, 800, 24))\n",
    "        self.menubar.setObjectName(\"menubar\")\n",
    "        MainWindow.setMenuBar(self.menubar)\n",
    "        self.statusbar = QtWidgets.QStatusBar(MainWindow)\n",
    "        self.statusbar.setObjectName(\"statusbar\")\n",
    "        MainWindow.setStatusBar(self.statusbar)\n",
    "\n",
    "        self.retranslateUi(MainWindow)\n",
    "        QtCore.QMetaObject.connectSlotsByName(MainWindow)\n",
    "\n",
    "    def retranslateUi(self, MainWindow):\n",
    "        _translate = QtCore.QCoreApplication.translate\n",
    "        MainWindow.setWindowTitle(_translate(\"MainWindow\", \"MainWindow\"))\n",
    "        self.pushButton_2.setText(_translate(\"MainWindow\", \"Start\"))\n",
    "        self.label_3.setText(_translate(\"MainWindow\", \"Attendance System\"))\n",
    "\n",
    "\n",
    "if __name__ == \"__main__\":\n",
    "    import sys\n",
    "    app = QtWidgets.QApplication(sys.argv)\n",
    "    MainWindow = QtWidgets.QMainWindow()\n",
    "    ui = Ui_MainWindow()\n",
    "    ui.setupUi(MainWindow)\n",
    "    MainWindow.show()\n",
    "    sys.exit(app.exec_())\n"
   ]
  },
  {
   "cell_type": "code",
   "execution_count": null,
   "metadata": {},
   "outputs": [],
   "source": []
  }
 ],
 "metadata": {
  "kernelspec": {
   "display_name": "Python 3",
   "language": "python",
   "name": "python3"
  },
  "language_info": {
   "codemirror_mode": {
    "name": "ipython",
    "version": 3
   },
   "file_extension": ".py",
   "mimetype": "text/x-python",
   "name": "python",
   "nbconvert_exporter": "python",
   "pygments_lexer": "ipython3",
   "version": "3.8.5"
  }
 },
 "nbformat": 4,
 "nbformat_minor": 4
}
